{
 "cells": [
  {
   "cell_type": "markdown",
   "metadata": {},
   "source": [
    "# Análise exploratória de dados"
   ]
  },
  {
   "cell_type": "code",
   "execution_count": 1,
   "metadata": {},
   "outputs": [],
   "source": [
    "import pandas as pd\n",
    "import numpy as np\n",
    "import geopandas as gpd\n",
    "import matplotlib.pyplot as plt\n",
    "import seaborn as sns\n",
    "from IPython.display import display, Markdown"
   ]
  },
  {
   "cell_type": "markdown",
   "metadata": {},
   "source": [
    "## 1. Descrição dos dados"
   ]
  },
  {
   "cell_type": "code",
   "execution_count": null,
   "metadata": {},
   "outputs": [],
   "source": [
    "Os dados do Titanic são para o levantamento de quais fatores influenciaram na sobrevivência dos passageiros. Será trabalhado a classe social, idade, sexo e se possuía passageiros a bordo. O objetivo é prever se um passageiro sobreviveu ou não ao acidente."
   ]
  },
  {
   "cell_type": "markdown",
   "metadata": {},
   "source": [
    "1.2 Entendimento de Dados"
   ]
  },
  {
   "cell_type": "code",
   "execution_count": 4,
   "metadata": {},
   "outputs": [
    {
     "data": {
      "text/html": [
       "<div>\n",
       "<style scoped>\n",
       "    .dataframe tbody tr th:only-of-type {\n",
       "        vertical-align: middle;\n",
       "    }\n",
       "\n",
       "    .dataframe tbody tr th {\n",
       "        vertical-align: top;\n",
       "    }\n",
       "\n",
       "    .dataframe thead th {\n",
       "        text-align: right;\n",
       "    }\n",
       "</style>\n",
       "<table border=\"1\" class=\"dataframe\">\n",
       "  <thead>\n",
       "    <tr style=\"text-align: right;\">\n",
       "      <th></th>\n",
       "      <th>PassengerId</th>\n",
       "      <th>Survived</th>\n",
       "      <th>Pclass</th>\n",
       "      <th>Name</th>\n",
       "      <th>Sex</th>\n",
       "      <th>Age</th>\n",
       "      <th>SibSp</th>\n",
       "      <th>Parch</th>\n",
       "      <th>Ticket</th>\n",
       "      <th>Fare</th>\n",
       "      <th>Cabin</th>\n",
       "      <th>Embarked</th>\n",
       "    </tr>\n",
       "  </thead>\n",
       "  <tbody>\n",
       "    <tr>\n",
       "      <th>0</th>\n",
       "      <td>1</td>\n",
       "      <td>0</td>\n",
       "      <td>3</td>\n",
       "      <td>Braund, Mr. Owen Harris</td>\n",
       "      <td>male</td>\n",
       "      <td>22.0</td>\n",
       "      <td>1</td>\n",
       "      <td>0</td>\n",
       "      <td>A/5 21171</td>\n",
       "      <td>7.2500</td>\n",
       "      <td>NaN</td>\n",
       "      <td>S</td>\n",
       "    </tr>\n",
       "    <tr>\n",
       "      <th>1</th>\n",
       "      <td>2</td>\n",
       "      <td>1</td>\n",
       "      <td>1</td>\n",
       "      <td>Cumings, Mrs. John Bradley (Florence Briggs Th...</td>\n",
       "      <td>female</td>\n",
       "      <td>38.0</td>\n",
       "      <td>1</td>\n",
       "      <td>0</td>\n",
       "      <td>PC 17599</td>\n",
       "      <td>71.2833</td>\n",
       "      <td>C85</td>\n",
       "      <td>C</td>\n",
       "    </tr>\n",
       "    <tr>\n",
       "      <th>2</th>\n",
       "      <td>3</td>\n",
       "      <td>1</td>\n",
       "      <td>3</td>\n",
       "      <td>Heikkinen, Miss. Laina</td>\n",
       "      <td>female</td>\n",
       "      <td>26.0</td>\n",
       "      <td>0</td>\n",
       "      <td>0</td>\n",
       "      <td>STON/O2. 3101282</td>\n",
       "      <td>7.9250</td>\n",
       "      <td>NaN</td>\n",
       "      <td>S</td>\n",
       "    </tr>\n",
       "    <tr>\n",
       "      <th>3</th>\n",
       "      <td>4</td>\n",
       "      <td>1</td>\n",
       "      <td>1</td>\n",
       "      <td>Futrelle, Mrs. Jacques Heath (Lily May Peel)</td>\n",
       "      <td>female</td>\n",
       "      <td>35.0</td>\n",
       "      <td>1</td>\n",
       "      <td>0</td>\n",
       "      <td>113803</td>\n",
       "      <td>53.1000</td>\n",
       "      <td>C123</td>\n",
       "      <td>S</td>\n",
       "    </tr>\n",
       "    <tr>\n",
       "      <th>4</th>\n",
       "      <td>5</td>\n",
       "      <td>0</td>\n",
       "      <td>3</td>\n",
       "      <td>Allen, Mr. William Henry</td>\n",
       "      <td>male</td>\n",
       "      <td>35.0</td>\n",
       "      <td>0</td>\n",
       "      <td>0</td>\n",
       "      <td>373450</td>\n",
       "      <td>8.0500</td>\n",
       "      <td>NaN</td>\n",
       "      <td>S</td>\n",
       "    </tr>\n",
       "  </tbody>\n",
       "</table>\n",
       "</div>"
      ],
      "text/plain": [
       "   PassengerId  Survived  Pclass  \\\n",
       "0            1         0       3   \n",
       "1            2         1       1   \n",
       "2            3         1       3   \n",
       "3            4         1       1   \n",
       "4            5         0       3   \n",
       "\n",
       "                                                Name     Sex   Age  SibSp  \\\n",
       "0                            Braund, Mr. Owen Harris    male  22.0      1   \n",
       "1  Cumings, Mrs. John Bradley (Florence Briggs Th...  female  38.0      1   \n",
       "2                             Heikkinen, Miss. Laina  female  26.0      0   \n",
       "3       Futrelle, Mrs. Jacques Heath (Lily May Peel)  female  35.0      1   \n",
       "4                           Allen, Mr. William Henry    male  35.0      0   \n",
       "\n",
       "   Parch            Ticket     Fare Cabin Embarked  \n",
       "0      0         A/5 21171   7.2500   NaN        S  \n",
       "1      0          PC 17599  71.2833   C85        C  \n",
       "2      0  STON/O2. 3101282   7.9250   NaN        S  \n",
       "3      0            113803  53.1000  C123        S  \n",
       "4      0            373450   8.0500   NaN        S  "
      ]
     },
     "execution_count": 4,
     "metadata": {},
     "output_type": "execute_result"
    }
   ],
   "source": [
    "df = pd.read_csv('../data/raw/train.csv')\n",
    "df_dict = pd.read_csv('../data/raw/train.csv')\n",
    "df.head()"
   ]
  },
  {
   "cell_type": "markdown",
   "metadata": {},
   "source": [
    "## 2. Dicionário de dados"
   ]
  },
  {
   "cell_type": "code",
   "execution_count": 3,
   "metadata": {},
   "outputs": [
    {
     "data": {
      "text/html": [
       "<div>\n",
       "<style scoped>\n",
       "    .dataframe tbody tr th:only-of-type {\n",
       "        vertical-align: middle;\n",
       "    }\n",
       "\n",
       "    .dataframe tbody tr th {\n",
       "        vertical-align: top;\n",
       "    }\n",
       "\n",
       "    .dataframe thead th {\n",
       "        text-align: right;\n",
       "    }\n",
       "</style>\n",
       "<table border=\"1\" class=\"dataframe\">\n",
       "  <thead>\n",
       "    <tr style=\"text-align: right;\">\n",
       "      <th></th>\n",
       "      <th>variavel</th>\n",
       "      <th>descricao</th>\n",
       "      <th>tipo</th>\n",
       "      <th>subtipo</th>\n",
       "    </tr>\n",
       "  </thead>\n",
       "  <tbody>\n",
       "    <tr>\n",
       "      <th>0</th>\n",
       "      <td>Survival</td>\n",
       "      <td>Sobrevivente 0 = No, 1 = Yes</td>\n",
       "      <td>qualitativa</td>\n",
       "      <td>nominal</td>\n",
       "    </tr>\n",
       "    <tr>\n",
       "      <th>1</th>\n",
       "      <td>Pclass</td>\n",
       "      <td>Ticket Class 1 = 1st, 2 = 2nd, 3 = 3rd</td>\n",
       "      <td>qualitativa</td>\n",
       "      <td>ordinal</td>\n",
       "    </tr>\n",
       "    <tr>\n",
       "      <th>2</th>\n",
       "      <td>Sex</td>\n",
       "      <td>Gender</td>\n",
       "      <td>qualitativa</td>\n",
       "      <td>nominal</td>\n",
       "    </tr>\n",
       "    <tr>\n",
       "      <th>3</th>\n",
       "      <td>Age</td>\n",
       "      <td>Age in years</td>\n",
       "      <td>quantitativa</td>\n",
       "      <td>contínua</td>\n",
       "    </tr>\n",
       "    <tr>\n",
       "      <th>4</th>\n",
       "      <td>Sibsp</td>\n",
       "      <td># of siblings / spouses aboard the Titanic</td>\n",
       "      <td>qualitativa</td>\n",
       "      <td>nominal</td>\n",
       "    </tr>\n",
       "    <tr>\n",
       "      <th>5</th>\n",
       "      <td>Parch</td>\n",
       "      <td># of parents / children aboard the Titanic</td>\n",
       "      <td>qualitativa</td>\n",
       "      <td>nominal</td>\n",
       "    </tr>\n",
       "    <tr>\n",
       "      <th>6</th>\n",
       "      <td>Ticket</td>\n",
       "      <td>Ticket Number</td>\n",
       "      <td>qualitativa</td>\n",
       "      <td>nominal</td>\n",
       "    </tr>\n",
       "    <tr>\n",
       "      <th>7</th>\n",
       "      <td>Fare</td>\n",
       "      <td>Passenger fare</td>\n",
       "      <td>quantitiva</td>\n",
       "      <td>discreta</td>\n",
       "    </tr>\n",
       "    <tr>\n",
       "      <th>8</th>\n",
       "      <td>Cabin</td>\n",
       "      <td>Cabin Number</td>\n",
       "      <td>qualitativa</td>\n",
       "      <td>ordinal</td>\n",
       "    </tr>\n",
       "    <tr>\n",
       "      <th>9</th>\n",
       "      <td>Embarked</td>\n",
       "      <td>Port of Embarkation</td>\n",
       "      <td>qualitativa</td>\n",
       "      <td>nominal</td>\n",
       "    </tr>\n",
       "  </tbody>\n",
       "</table>\n",
       "</div>"
      ],
      "text/plain": [
       "   variavel                                   descricao          tipo  \\\n",
       "0  Survival                Sobrevivente 0 = No, 1 = Yes   qualitativa   \n",
       "1    Pclass      Ticket Class 1 = 1st, 2 = 2nd, 3 = 3rd   qualitativa   \n",
       "2       Sex                                      Gender   qualitativa   \n",
       "3       Age                                Age in years  quantitativa   \n",
       "4     Sibsp  # of siblings / spouses aboard the Titanic   qualitativa   \n",
       "5     Parch  # of parents / children aboard the Titanic   qualitativa   \n",
       "6    Ticket                               Ticket Number   qualitativa   \n",
       "7      Fare                              Passenger fare    quantitiva   \n",
       "8     Cabin                                Cabin Number   qualitativa   \n",
       "9  Embarked                         Port of Embarkation   qualitativa   \n",
       "\n",
       "    subtipo  \n",
       "0   nominal  \n",
       "1   ordinal  \n",
       "2   nominal  \n",
       "3  contínua  \n",
       "4   nominal  \n",
       "5   nominal  \n",
       "6   nominal  \n",
       "7  discreta  \n",
       "8   ordinal  \n",
       "9   nominal  "
      ]
     },
     "execution_count": 3,
     "metadata": {},
     "output_type": "execute_result"
    }
   ],
   "source": [
    "dicionario = pd.read_csv('../data/external/dictionary.csv')\n",
    "dicionario"
   ]
  },
  {
   "cell_type": "markdown",
   "metadata": {},
   "source": [
    "2.1 Variáveis"
   ]
  },
  {
   "cell_type": "code",
   "execution_count": 4,
   "metadata": {},
   "outputs": [
    {
     "data": {
      "text/markdown": [
       "\n",
       "---\n",
       " - São 10 variáveis: 8 qualitativas e 1 quantitativas e 1 variável inútil;\n",
       "    - Qualitativas: 6 nominais e 2 ordinais;\n",
       "    - Quantitativas: 1 contínuas e 0 discretas;\n",
       "---\n"
      ],
      "text/plain": [
       "<IPython.core.display.Markdown object>"
      ]
     },
     "metadata": {},
     "output_type": "display_data"
    }
   ],
   "source": [
    "quantitativas_discretas = dicionario[(dicionario['tipo'] == 'quantitativa') & (dicionario['subtipo'] == 'discreta')].shape[0]\n",
    "quantitativas_continuas = dicionario[(dicionario['tipo'] == 'quantitativa') & (dicionario['subtipo'] == 'contínua')].shape[0]\n",
    "qualitativas_nominais = dicionario[(dicionario['tipo'] == 'qualitativa') & (dicionario['subtipo'] == 'nominal')].shape[0]\n",
    "qualitativas_ordinais = dicionario[(dicionario['tipo'] == 'qualitativa') & (dicionario['subtipo'] == 'ordinal')].shape[0]\n",
    "\n",
    "quantidade_qualitativa = qualitativas_nominais + qualitativas_ordinais\n",
    "quantidade_quantitativa = quantitativas_continuas + quantitativas_discretas\n",
    "\n",
    "display(Markdown(f\"\"\"\n",
    "---\n",
    " - São {dicionario.shape[0]} variáveis: {quantidade_qualitativa} qualitativas e {quantidade_quantitativa} quantitativas e 1 variável inútil;\n",
    "    - Qualitativas: {qualitativas_nominais} nominais e {qualitativas_ordinais} ordinais;\n",
    "    - Quantitativas: {quantitativas_continuas} contínuas e {quantitativas_discretas} discretas;\n",
    "---\n",
    "\"\"\"))"
   ]
  },
  {
   "cell_type": "markdown",
   "metadata": {},
   "source": [
    "## 2. Perguntas de partida e hipóteses"
   ]
  },
  {
   "cell_type": "code",
   "execution_count": null,
   "metadata": {},
   "outputs": [],
   "source": [
    "Quais classes tiveram mais sobreviventes?\n",
    "Qual é a média de idade dos passageiros que sobreviveram e dos que não sobreviveram ao naufrágio do Titanic?\n",
    "Qual o percentual de sobreviventes por sexo?"
   ]
  },
  {
   "cell_type": "markdown",
   "metadata": {},
   "source": [
    "Quais classes tiveram mais sobreviventes?"
   ]
  },
  {
   "cell_type": "code",
   "execution_count": 7,
   "metadata": {
    "vscode": {
     "languageId": "ruby"
    }
   },
   "outputs": [
    {
     "name": "stderr",
     "output_type": "stream",
     "text": [
      "C:\\Users\\myle_\\AppData\\Local\\Temp\\ipykernel_11804\\1176996870.py:9: FutureWarning: \n",
      "\n",
      "Passing `palette` without assigning `hue` is deprecated and will be removed in v0.14.0. Assign the `x` variable to `hue` and set `legend=False` for the same effect.\n",
      "\n",
      "  sns.barplot(x=survivors_by_class.index, y=survivors_by_class.values, palette='viridis')\n"
     ]
    },
    {
     "data": {
      "image/png": "[encoded data removed]",
      "text/plain": [
       "<Figure size 1000x600 with 1 Axes>"
      ]
     },
     "metadata": {},
     "output_type": "display_data"
    }
   ],
   "source": [
    "# Carregar o dataset do Titanic\n",
    "titanic_df = pd.read_csv('../data/raw/train.csv')\n",
    "\n",
    "# Contar o número de sobreviventes por classe\n",
    "survivors_by_class = titanic_df[titanic_df['Survived'] == 1]['Pclass'].value_counts().sort_index()\n",
    "\n",
    "# Plotar o gráfico\n",
    "plt.figure(figsize=(10, 6))\n",
    "sns.barplot(x=survivors_by_class.index, y=survivors_by_class.values, palette='viridis')\n",
    "plt.title('Número de Sobreviventes por Classe')\n",
    "plt.xlabel('Classe')\n",
    "plt.ylabel('Número de Sobreviventes')\n",
    "plt.xticks([0, 1, 2], ['1st', '2nd', '3rd'])\n",
    "plt.show()"
   ]
  },
  {
   "cell_type": "markdown",
   "metadata": {},
   "source": [
    "A partir do gráfico podemos concluir que:\n",
    "Os passageiros da primeira classe tiveram mais sobreviventes"
   ]
  },
  {
   "cell_type": "markdown",
   "metadata": {},
   "source": [
    "Qual é a média de idade dos passageiros que sobreviveram e dos que não sobreviveram ao naufrágio do Titanic?"
   ]
  },
  {
   "cell_type": "code",
   "execution_count": null,
   "metadata": {
    "vscode": {
     "languageId": "ruby"
    }
   },
   "outputs": [],
   "source": [
    "Qual é a média de idade dos passageiros que sobreviveram e dos que não sobreviveram ao naufrágio do Titanic?"
   ]
  },
  {
   "cell_type": "code",
   "execution_count": 5,
   "metadata": {},
   "outputs": [
    {
     "name": "stderr",
     "output_type": "stream",
     "text": [
      "C:\\Users\\myle_\\AppData\\Local\\Temp\\ipykernel_7372\\4062998140.py:7: FutureWarning: \n",
      "\n",
      "Passing `palette` without assigning `hue` is deprecated and will be removed in v0.14.0. Assign the `x` variable to `hue` and set `legend=False` for the same effect.\n",
      "\n",
      "  sns.barplot(x='Survived', y='Mean Age', data=mean_age_survived, palette='viridis')\n"
     ]
    },
    {
     "data": {
      "image/png": "[encoded data removed]",
      "text/plain": [
       "<Figure size 1000x600 with 1 Axes>"
      ]
     },
     "metadata": {},
     "output_type": "display_data"
    }
   ],
   "source": [
    "# Calcular a média de idade dos passageiros que sobreviveram e dos que não sobreviveram\n",
    "mean_age_survived = df.groupby('Survived')['Age'].mean().reset_index()\n",
    "mean_age_survived.columns = ['Survived', 'Mean Age']\n",
    "\n",
    "# Plotar o gráfico\n",
    "plt.figure(figsize=(10, 6))\n",
    "sns.barplot(x='Survived', y='Mean Age', data=mean_age_survived, palette='viridis')\n",
    "plt.title('Média de Idade dos Passageiros que Sobreviveram e Não Sobreviveram')\n",
    "plt.xlabel('Sobreviveu')\n",
    "plt.ylabel('Média de Idade')\n",
    "plt.xticks([0, 1], ['Não Sobreviveu', 'Sobreviveu'])\n",
    "plt.show()"
   ]
  },
  {
   "cell_type": "markdown",
   "metadata": {},
   "source": [
    "Qual o percentual de sobreviventes por sexo?"
   ]
  },
  {
   "cell_type": "code",
   "execution_count": 6,
   "metadata": {},
   "outputs": [
    {
     "name": "stderr",
     "output_type": "stream",
     "text": [
      "C:\\Users\\myle_\\AppData\\Local\\Temp\\ipykernel_10200\\2720761020.py:10: FutureWarning: \n",
      "\n",
      "Passing `palette` without assigning `hue` is deprecated and will be removed in v0.14.0. Assign the `x` variable to `hue` and set `legend=False` for the same effect.\n",
      "\n",
      "  sns.barplot(x='Sex', y='Survival Rate', data=survival_rate_df, palette='viridis')\n"
     ]
    },
    {
     "data": {
      "image/png": "[encoded data removed]",
      "text/plain": [
       "<Figure size 1000x600 with 1 Axes>"
      ]
     },
     "metadata": {},
     "output_type": "display_data"
    }
   ],
   "source": [
    "# Calcular o percentual de sobreviventes por sexo\n",
    "survival_rate_by_sex = df.groupby('Sex')['Survived'].mean() * 100\n",
    "\n",
    "# Criar um DataFrame com os resultados\n",
    "survival_rate_df = survival_rate_by_sex.reset_index()\n",
    "survival_rate_df.columns = ['Sex', 'Survival Rate']\n",
    "\n",
    "# Plotar o gráfico\n",
    "plt.figure(figsize=(10, 6))\n",
    "sns.barplot(x='Sex', y='Survival Rate', data=survival_rate_df, palette='viridis')\n",
    "plt.title('Percentual de Sobreviventes por Sexo')\n",
    "plt.xlabel('Sexo')\n",
    "plt.ylabel('Percentual de Sobreviventes (%)')\n",
    "plt.show()"
   ]
  },
  {
   "cell_type": "markdown",
   "metadata": {},
   "source": [
    "A partir do gráfico podemos concluir que:\n",
    "Passageiros do sexo feminino tiveram mais chance de sobreviver"
   ]
  },
  {
   "cell_type": "markdown",
   "metadata": {},
   "source": [
    "## 3. Insights"
   ]
  },
  {
   "cell_type": "code",
   "execution_count": null,
   "metadata": {
    "vscode": {
     "languageId": "markdown"
    }
   },
   "outputs": [],
   "source": [
    "## 3. Insights\n",
    "\n",
    "A partir das análises realizadas, podemos obter os seguintes insights:\n",
    "\n",
    "1. **Sobrevivência por Classe:**\n",
    "    - Os passageiros da primeira classe tiveram mais sobreviventes em comparação com as outras classes.\n",
    "    - Isso pode indicar que os passageiros da primeira classe tiveram mais acesso aos botes salva-vidas ou foram priorizados durante o resgate.\n",
    "\n",
    "2. **Média de Idade dos Sobreviventes:**\n",
    "    - A média de idade dos passageiros que sobreviveram é ligeiramente menor (28.34 anos) em comparação com aqueles que não sobreviveram (30.63 anos).\n",
    "    - Isso pode sugerir que passageiros mais jovens tiveram uma chance ligeiramente maior de sobreviver ao naufrágio.\n",
    "\n",
    "3. **Percentual de Sobreviventes por Sexo:**\n",
    "    - Passageiros do sexo feminino tiveram uma chance significativamente maior de sobreviver em comparação com os passageiros do sexo masculino.\n",
    "    - Isso pode ser explicado pela política de \"mulheres e crianças primeiro\" adotada durante o resgate.\n",
    "\n",
    "Esses insights podem ajudar a entender melhor os fatores que influenciaram a sobrevivência dos passageiros do Titanic e podem ser utilizados para formular hipóteses adicionais ou direcionar análises futuras."
   ]
  }
 ],
 "metadata": {
  "kernelspec": {
   "display_name": "Python 3",
   "language": "python",
   "name": "python3"
  },
  "language_info": {
   "codemirror_mode": {
    "name": "ipython",
    "version": 3
   },
   "file_extension": ".py",
   "mimetype": "text/x-python",
   "name": "python",
   "nbconvert_exporter": "python",
   "pygments_lexer": "ipython3",
   "version": "3.12.4"
  },
  "orig_nbformat": 4
 },
 "nbformat": 4,
 "nbformat_minor": 2
}

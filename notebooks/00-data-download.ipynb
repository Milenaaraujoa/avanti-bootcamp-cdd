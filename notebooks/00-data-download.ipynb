{
 "cells": [
  {
   "cell_type": "code",
   "execution_count": 1,
   "metadata": {},
   "outputs": [],
   "source": [
    "\n",
    "import pandas as pd"
   ]
  },
  {
   "cell_type": "code",
   "execution_count": 18,
   "metadata": {},
   "outputs": [],
   "source": [
    "# ler conjunto de dados do repositório remoto\n",
    "df = pd.read_csv('../data/raw/train.csv', sep=',')"
   ]
  },
  {
   "cell_type": "code",
   "execution_count": 19,
   "metadata": {},
   "outputs": [],
   "source": [
    "# Criar dicionário de dados\n",
    "data_dictionary = pd.DataFrame([\n",
    "     {\n",
    "        'variavel': 'Survival',\n",
    "        'descricao': 'Sobrevivente 0 = No, 1 = Yes',\n",
    "        'tipo': 'qualitativa',\n",
    "        'subtipo': 'nominal',\n",
    "    },\n",
    "    {\n",
    "        'variavel': 'Pclass',\n",
    "        'descricao': 'Ticket Class 1 = 1st, 2 = 2nd, 3 = 3rd',\n",
    "        'tipo': 'qualitativa',\n",
    "        'subtipo': 'ordinal',\n",
    "    },\n",
    "    {\n",
    "        'variavel': 'Sex',\n",
    "        'descricao': 'Gender',\n",
    "        'tipo': 'qualitativa',\n",
    "        'subtipo': 'nominal',\n",
    "    },\n",
    "    {\n",
    "        'variavel': 'Age',\n",
    "        'descricao': 'Age in years',\n",
    "        'tipo': 'quantitativa',\n",
    "        'subtipo': 'contínua',\n",
    "    },\n",
    "    {\n",
    "        'variavel': 'Sibsp',\n",
    "        'descricao': '# of siblings / spouses aboard the Titanic',\n",
    "        'tipo': 'qualitativa',\n",
    "        'subtipo': 'nominal',\n",
    "    },\n",
    "     {\n",
    "        'variavel': 'Parch',\n",
    "        'descricao': '# of parents / children aboard the Titanic',\n",
    "        'tipo': 'qualitativa',\n",
    "        'subtipo': 'nominal',\n",
    "    },\n",
    "      {\n",
    "        'variavel': 'Ticket',\n",
    "        'descricao': 'Ticket Number',\n",
    "        'tipo': 'qualitativa',\n",
    "        'subtipo': 'nominal',\n",
    "    },\n",
    "    {\n",
    "        'variavel': 'Fare',\n",
    "        'descricao': 'Passenger fare',\n",
    "        'tipo': 'quantitiva',\n",
    "        'subtipo': 'discreta',\n",
    "    },\n",
    "    {\n",
    "        'variavel': 'Cabin',\n",
    "        'descricao': 'Cabin Number',\n",
    "        'tipo': 'qualitativa',\n",
    "        'subtipo': 'ordinal',\n",
    "    },\n",
    "     {\n",
    "        'variavel': 'Embarked',\n",
    "        'descricao': 'Port of Embarkation',\n",
    "        'tipo': 'qualitativa',\n",
    "        'subtipo': 'nominal',\n",
    "    },\n",
    "      \n",
    "    \n",
    "])\n",
    "# Salvar dicionário de dados\n",
    "data_dictionary.to_csv(\"../data/external/dictionary.csv\", index=False)"
   ]
  }
 ],
 "metadata": {
  "kernelspec": {
   "display_name": "Python 3",
   "language": "python",
   "name": "python3"
  },
  "language_info": {
   "codemirror_mode": {
    "name": "ipython",
    "version": 3
   },
   "file_extension": ".py",
   "mimetype": "text/x-python",
   "name": "python",
   "nbconvert_exporter": "python",
   "pygments_lexer": "ipython3",
   "version": "3.12.4"
  }
 },
 "nbformat": 4,
 "nbformat_minor": 2
}
